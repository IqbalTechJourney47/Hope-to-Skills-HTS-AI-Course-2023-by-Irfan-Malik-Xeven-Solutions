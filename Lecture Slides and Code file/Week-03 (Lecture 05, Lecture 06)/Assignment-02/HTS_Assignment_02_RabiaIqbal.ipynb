{
 "cells": [
  {
   "cell_type": "markdown",
   "id": "36f03d9a",
   "metadata": {},
   "source": [
    "# List"
   ]
  },
  {
   "cell_type": "code",
   "execution_count": 1,
   "id": "af83b3d1",
   "metadata": {},
   "outputs": [
    {
     "name": "stdout",
     "output_type": "stream",
     "text": [
      "['mango', 'apple', 'banana']\n"
     ]
    }
   ],
   "source": [
    "# Create a list named \"fruits\" containing three different fruits.\n",
    "\n",
    "fruits = [\"mango\", \"apple\", \"banana\"]\n",
    "print(fruits)"
   ]
  },
  {
   "cell_type": "markdown",
   "id": "c20b6b14",
   "metadata": {},
   "source": [
    "# Tuple"
   ]
  },
  {
   "cell_type": "code",
   "execution_count": 9,
   "id": "4bef1a98",
   "metadata": {},
   "outputs": [],
   "source": [
    "# Create a tuple named \"numbers\" with five random numbers.\n",
    "\n",
    "import random\n",
    "\n",
    "numbers = tuple(random.randint(1, 100) for _ in range(5))"
   ]
  },
  {
   "cell_type": "code",
   "execution_count": 10,
   "id": "b9f68616",
   "metadata": {},
   "outputs": [
    {
     "name": "stdout",
     "output_type": "stream",
     "text": [
      "(27, 98, 73, 58, 19)\n"
     ]
    }
   ],
   "source": [
    "print(numbers)"
   ]
  },
  {
   "cell_type": "code",
   "execution_count": 13,
   "id": "cc1b7988",
   "metadata": {},
   "outputs": [
    {
     "name": "stdout",
     "output_type": "stream",
     "text": [
      "(1, 3, 5, 7, 9)\n"
     ]
    }
   ],
   "source": [
    "numbers2 = (1, 3, 5, 7, 9)\n",
    "print(numbers2)"
   ]
  },
  {
   "cell_type": "markdown",
   "id": "b86d1f83",
   "metadata": {},
   "source": [
    "# Set"
   ]
  },
  {
   "cell_type": "code",
   "execution_count": 12,
   "id": "a0a489ad",
   "metadata": {},
   "outputs": [],
   "source": [
    "# Create a set named \"colors\" with three different colors."
   ]
  },
  {
   "cell_type": "code",
   "execution_count": 14,
   "id": "d7e0b605",
   "metadata": {},
   "outputs": [
    {
     "name": "stdout",
     "output_type": "stream",
     "text": [
      "{'blue', 'white', 'green'}\n"
     ]
    }
   ],
   "source": [
    "colors = {\"green\", \"blue\", \"white\"}\n",
    "print(colors)"
   ]
  },
  {
   "cell_type": "markdown",
   "id": "fa9d09f8",
   "metadata": {},
   "source": [
    "# Dictionary"
   ]
  },
  {
   "cell_type": "markdown",
   "id": "863b1ff1",
   "metadata": {},
   "source": [
    "Create a dictionary named \"student\" with the following key-value pairs:\n",
    "\n",
    "o \"name\" as the key and the student's name as the value.\n",
    "\n",
    "o \"age\" as the key and the student's age as the value.\n",
    "\n",
    "o \"grade\" as the key and the student's grade as the value."
   ]
  },
  {
   "cell_type": "code",
   "execution_count": 20,
   "id": "d370530e",
   "metadata": {},
   "outputs": [
    {
     "name": "stdout",
     "output_type": "stream",
     "text": [
      "{'name': 'Muhammad Iqbal', 'age': 33, 'grade': 'A+'}\n"
     ]
    }
   ],
   "source": [
    "student = {\"name\": \"Muhammad Iqbal\",  \"age\": 33, \"grade\": \"A+\"}\n",
    "print(student)"
   ]
  },
  {
   "cell_type": "markdown",
   "id": "f474c65c",
   "metadata": {},
   "source": [
    "# **Multiline Strings**\n",
    "You can assign a multiline string to a variable by using three quotes Or three single quotes:"
   ]
  },
  {
   "cell_type": "code",
   "execution_count": 18,
   "id": "51756ced",
   "metadata": {},
   "outputs": [],
   "source": [
    "# Create a multi-line string named \"poem\" with a short poem of your choice."
   ]
  },
  {
   "cell_type": "code",
   "execution_count": 24,
   "id": "09621ca6",
   "metadata": {},
   "outputs": [
    {
     "name": "stdout",
     "output_type": "stream",
     "text": [
      "Twinkle, twinkle, little star,\n",
      "How I wonder what you are!\n",
      "Up above the world so high,\n",
      "Like a diamond in the sky\n"
     ]
    }
   ],
   "source": [
    "poem = \"\"\"Twinkle, twinkle, little star,\n",
    "How I wonder what you are!\n",
    "Up above the world so high,\n",
    "Like a diamond in the sky\"\"\"\n",
    "\n",
    "print(poem)"
   ]
  },
  {
   "cell_type": "markdown",
   "id": "e0e143d9",
   "metadata": {},
   "source": [
    "# If-Statement"
   ]
  },
  {
   "cell_type": "code",
   "execution_count": 27,
   "id": "60bdd93d",
   "metadata": {},
   "outputs": [],
   "source": [
    "# Write an if statement to check if the length of the \"fruits\" list is greater than 3.\n",
    "# If it is, print \"You have many fruits!\"."
   ]
  },
  {
   "cell_type": "code",
   "execution_count": 36,
   "id": "f2babb32",
   "metadata": {},
   "outputs": [
    {
     "name": "stdout",
     "output_type": "stream",
     "text": [
      "Fruits are mango, apple and banana.\n"
     ]
    }
   ],
   "source": [
    "fruits = [\"mango\", \"apple\", \"banana\"]\n",
    "\n",
    "if len(fruits)>3:\n",
    "    print(\"You have many fruits!\")\n",
    "else:\n",
    "    print(\"Fruits are mango, apple and banana.\")"
   ]
  },
  {
   "cell_type": "code",
   "execution_count": null,
   "id": "7f627bc3",
   "metadata": {},
   "outputs": [],
   "source": []
  }
 ],
 "metadata": {
  "kernelspec": {
   "display_name": "Python 3 (ipykernel)",
   "language": "python",
   "name": "python3"
  },
  "language_info": {
   "codemirror_mode": {
    "name": "ipython",
    "version": 3
   },
   "file_extension": ".py",
   "mimetype": "text/x-python",
   "name": "python",
   "nbconvert_exporter": "python",
   "pygments_lexer": "ipython3",
   "version": "3.10.9"
  }
 },
 "nbformat": 4,
 "nbformat_minor": 5
}
