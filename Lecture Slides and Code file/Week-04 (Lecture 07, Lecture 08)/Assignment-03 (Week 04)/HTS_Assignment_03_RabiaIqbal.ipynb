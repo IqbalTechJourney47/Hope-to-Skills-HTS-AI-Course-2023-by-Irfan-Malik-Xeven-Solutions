{
 "cells": [
  {
   "cell_type": "markdown",
   "id": "c121d911",
   "metadata": {},
   "source": [
    "# Multiplication Table"
   ]
  },
  {
   "cell_type": "code",
   "execution_count": 6,
   "id": "a2fcdb27",
   "metadata": {},
   "outputs": [
    {
     "name": "stdout",
     "output_type": "stream",
     "text": [
      "Enter a number: 5\n",
      "Multiplication table for 5:\n",
      "5 x 1 = 5\n",
      "5 x 2 = 10\n",
      "5 x 3 = 15\n",
      "5 x 4 = 20\n",
      "5 x 5 = 25\n",
      "5 x 6 = 30\n",
      "5 x 7 = 35\n",
      "5 x 8 = 40\n",
      "5 x 9 = 45\n",
      "5 x 10 = 50\n",
      "5 x 11 = 55\n",
      "5 x 12 = 60\n",
      "5 x 13 = 65\n",
      "5 x 14 = 70\n",
      "5 x 15 = 75\n",
      "5 x 16 = 80\n",
      "5 x 17 = 85\n",
      "5 x 18 = 90\n",
      "5 x 19 = 95\n",
      "5 x 20 = 100\n"
     ]
    }
   ],
   "source": [
    "# Write a program that prints the multiplication table of a given number using a for loop.\n",
    "\n",
    "# Get the number for which you want to print the multiplication table\n",
    "number = int(input(\"Enter a number: \"))\n",
    "\n",
    "# Print the multiplication table for the given number\n",
    "print(f\"Multiplication table for {number}:\")\n",
    "\n",
    "for i in range(1, 21):  # You can adjust the range to change the number of rows in the table\n",
    "    product = number * i\n",
    "    print(f\"{number} x {i} = {product}\")"
   ]
  },
  {
   "cell_type": "markdown",
   "id": "f3fb2049",
   "metadata": {},
   "source": [
    "# Even Numbers"
   ]
  },
  {
   "cell_type": "code",
   "execution_count": 7,
   "id": "756e7a42",
   "metadata": {},
   "outputs": [
    {
     "name": "stdout",
     "output_type": "stream",
     "text": [
      "2\n",
      "4\n",
      "6\n",
      "8\n",
      "10\n"
     ]
    }
   ],
   "source": [
    "# Write a program that prints all the even numbers from 1 to 10 using a while loop\n",
    "\n",
    "number = 1\n",
    "\n",
    "while number <= 10:\n",
    "    if number % 2 == 0:\n",
    "        print(number)\n",
    "    number += 1"
   ]
  },
  {
   "cell_type": "markdown",
   "id": "ccda179d",
   "metadata": {},
   "source": [
    "# Greeting Message"
   ]
  },
  {
   "cell_type": "code",
   "execution_count": 1,
   "id": "bd2eaf3f",
   "metadata": {},
   "outputs": [
    {
     "name": "stdout",
     "output_type": "stream",
     "text": [
      "Enter your name: Rabia\n",
      "Hi, Rabia! Welcome to our program.\n"
     ]
    }
   ],
   "source": [
    "# Write a function called \"greet_user\" that takes a user's name as an argument and prints a personalized greeting message.\n",
    "\n",
    "def greet_user(name):\n",
    "    print(f\"Hi, {name}! Welcome to our program.\")\n",
    "\n",
    "# Example usage:\n",
    "user_name = input(\"Enter your name: \")\n",
    "greet_user(user_name)"
   ]
  },
  {
   "cell_type": "markdown",
   "id": "e32ce25e",
   "metadata": {},
   "source": [
    "# Even or Odd Number"
   ]
  },
  {
   "cell_type": "code",
   "execution_count": 5,
   "id": "12c42222",
   "metadata": {},
   "outputs": [
    {
     "name": "stdout",
     "output_type": "stream",
     "text": [
      "Enter a number: 2\n",
      "Is 2 even? True\n"
     ]
    }
   ],
   "source": [
    "# Write a function called \"is_even\" that takes a number as an argument\n",
    "# and returns True if the number is even, and False otherwise.\n",
    "\n",
    "def is_even(number):\n",
    "    return number % 2 == 0\n",
    "\n",
    "number = int(input(\"Enter a number: \"))\n",
    "\n",
    "result = is_even(number)\n",
    "print(f\"Is {number} even? {result}\")"
   ]
  },
  {
   "cell_type": "code",
   "execution_count": null,
   "id": "614daa49",
   "metadata": {},
   "outputs": [],
   "source": []
  }
 ],
 "metadata": {
  "kernelspec": {
   "display_name": "Python 3 (ipykernel)",
   "language": "python",
   "name": "python3"
  },
  "language_info": {
   "codemirror_mode": {
    "name": "ipython",
    "version": 3
   },
   "file_extension": ".py",
   "mimetype": "text/x-python",
   "name": "python",
   "nbconvert_exporter": "python",
   "pygments_lexer": "ipython3",
   "version": "3.10.9"
  }
 },
 "nbformat": 4,
 "nbformat_minor": 5
}
