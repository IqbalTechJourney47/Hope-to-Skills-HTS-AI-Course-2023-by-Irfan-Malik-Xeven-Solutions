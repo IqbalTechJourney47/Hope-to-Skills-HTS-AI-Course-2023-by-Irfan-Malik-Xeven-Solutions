{
 "cells": [
  {
   "cell_type": "markdown",
   "id": "4b8d847c",
   "metadata": {},
   "source": [
    "# calculate_sum"
   ]
  },
  {
   "cell_type": "markdown",
   "id": "0a52769a",
   "metadata": {},
   "source": [
    "Write a function called calculate_sum that takes a list of numbers as an argument and returns the sum of those numbers.\n",
    "\n",
    "Example:\n",
    "\n",
    "Input: calculate_sum([1, 2, 3, 4, 5])\n",
    "\n",
    "Output: 15"
   ]
  },
  {
   "cell_type": "code",
   "execution_count": 30,
   "id": "16848b61",
   "metadata": {},
   "outputs": [
    {
     "name": "stdout",
     "output_type": "stream",
     "text": [
      "Input: [1, 2, 3, 4, 5]\n",
      "Output: 15\n"
     ]
    }
   ],
   "source": [
    "def calculate_sum(numbers):\n",
    "    total = 0\n",
    "    for number_i in numbers:\n",
    "        total += number_i\n",
    "    return total\n",
    "\n",
    "number_list = [1, 2, 3, 4, 5]\n",
    "result = calculate_sum(number_list)\n",
    "\n",
    "print(f\"Input: {number_list}\\nOutput: {result}\")"
   ]
  },
  {
   "cell_type": "code",
   "execution_count": 21,
   "id": "60819237",
   "metadata": {},
   "outputs": [
    {
     "name": "stdout",
     "output_type": "stream",
     "text": [
      "Input: [1, 2, 3, 4, 5]\n",
      "Output: 15\n"
     ]
    }
   ],
   "source": [
    "def calculate_sum(numbers):\n",
    "    total = 0\n",
    "    for number_i in numbers:\n",
    "        total += number_i\n",
    "    return total\n",
    "\n",
    "result = calculate_sum([1, 2, 3, 4, 5])\n",
    "\n",
    "print(f\"Input: {number_list}\\nOutput: {result}\")"
   ]
  },
  {
   "cell_type": "markdown",
   "id": "96846041",
   "metadata": {},
   "source": [
    "# remove_duplicates"
   ]
  },
  {
   "cell_type": "markdown",
   "id": "4115b979",
   "metadata": {},
   "source": [
    "Write a function called remove_duplicates that takes a list as an argument and returns a new list with duplicate elements removed.\n",
    "\n",
    "Example:\n",
    "\n",
    "Input: remove_duplicates([1, 2, 2, 3, 4, 4, 5])\n",
    "\n",
    "Output: [1, 2, 3, 4, 5]"
   ]
  },
  {
   "cell_type": "code",
   "execution_count": 32,
   "id": "e174ef92",
   "metadata": {},
   "outputs": [
    {
     "name": "stdout",
     "output_type": "stream",
     "text": [
      "Input: [1, 2, 2, 3, 4, 4, 5]\n",
      "Output: [1, 2, 3, 4, 5]\n"
     ]
    }
   ],
   "source": [
    "def remove_duplicates(input_list):\n",
    "    unique_list = []\n",
    "    for item in input_list:\n",
    "        if item not in unique_list:\n",
    "            unique_list.append(item)\n",
    "    return unique_list\n",
    "\n",
    "original_list = [1, 2, 2, 3, 4, 4, 5]\n",
    "result = remove_duplicates(original_list)\n",
    "\n",
    "print(f\"Input: {original_list}\\nOutput: {result}\")"
   ]
  },
  {
   "cell_type": "code",
   "execution_count": 28,
   "id": "89652744",
   "metadata": {},
   "outputs": [
    {
     "name": "stdout",
     "output_type": "stream",
     "text": [
      "Input: [1, 2, 2, 3, 4, 4, 5]\n",
      "Output: [1, 2, 3, 4, 5]\n"
     ]
    }
   ],
   "source": [
    "def remove_duplicates(input_list):\n",
    "    unique_list = []\n",
    "    for item_i in input_list:\n",
    "        if item_i not in unique_list:\n",
    "            unique_list.append(item_i)\n",
    "    return unique_list\n",
    "\n",
    "original_list = [1, 2, 2, 3, 4, 4, 5]\n",
    "result = remove_duplicates(original_list)\n",
    "\n",
    "print(f\"Input: {original_list}\\nOutput: {result}\")"
   ]
  },
  {
   "cell_type": "markdown",
   "id": "400658e5",
   "metadata": {},
   "source": [
    "# find_max"
   ]
  },
  {
   "cell_type": "markdown",
   "id": "3f240465",
   "metadata": {},
   "source": [
    "Write a function called find_max that takes a list of numbers as an argument and returns the largest number in the list.\n",
    "\n",
    "Example: Input: find_max([10, 5, 8, 20, 3])\n",
    "\n",
    "Output: 20"
   ]
  },
  {
   "cell_type": "code",
   "execution_count": 43,
   "id": "e56a1c93",
   "metadata": {},
   "outputs": [
    {
     "name": "stdout",
     "output_type": "stream",
     "text": [
      "Input: [10, 5, 8, 20, 3] \n",
      "Output: 20\n"
     ]
    }
   ],
   "source": [
    "given_list = [10, 5, 8, 20, 3]\n",
    "result = max(given_list)\n",
    "\n",
    "print(f\"Input: {given_list} \\nOutput: {result}\")"
   ]
  },
  {
   "cell_type": "code",
   "execution_count": 45,
   "id": "22f054b7",
   "metadata": {},
   "outputs": [
    {
     "name": "stdout",
     "output_type": "stream",
     "text": [
      "Input: [10, 5, 8, 20, 3]\n",
      "Output: 20\n"
     ]
    }
   ],
   "source": [
    "def find_max(numbers):\n",
    "    if not numbers:\n",
    "        return None  # Handle the case where the list is empty    \n",
    "    max_number = numbers[0]  # Initialize max_number with the first element\n",
    "    for number in numbers:\n",
    "        if number > max_number:\n",
    "            max_number = number\n",
    "    return max_number\n",
    "\n",
    "number_list = [10, 5, 8, 20, 3]\n",
    "result = find_max(number_list)\n",
    "print(f\"Input: {number_list}\\nOutput: {result}\")"
   ]
  },
  {
   "cell_type": "markdown",
   "id": "fc007357",
   "metadata": {},
   "source": [
    "# Sentiment_analysis"
   ]
  },
  {
   "cell_type": "markdown",
   "id": "2a4a832f",
   "metadata": {},
   "source": [
    "Write a function called Sentiment_analysis that takes the input string from the user and return the sentiment of the string. Use the Open.ai API for this task.\n",
    "\n",
    "Example: Input “I am Happy” Output: Positive\n",
    "\n",
    "Example: Input “I don’t like the Rain” Output: Negative\n",
    "\n",
    "Example: Input “I am going out” Output: Neutral"
   ]
  },
  {
   "cell_type": "markdown",
   "id": "dd4468bd",
   "metadata": {
    "id": "mxGU4wR-O3Fi"
   },
   "source": [
    "## **Importing the openai in the code**"
   ]
  },
  {
   "cell_type": "markdown",
   "id": "8b2d2345",
   "metadata": {
    "id": "89Hedo50OlmU"
   },
   "source": [
    "## **Installing of open.ai**\n",
    "use the following command to install the open.ai\n"
   ]
  },
  {
   "cell_type": "code",
   "execution_count": 69,
   "id": "1c25f107",
   "metadata": {},
   "outputs": [
    {
     "name": "stdout",
     "output_type": "stream",
     "text": [
      "Requirement already satisfied: openai in c:\\users\\muhammad iqbal\\anaconda3\\lib\\site-packages (0.28.1)\n",
      "Requirement already satisfied: tqdm in c:\\users\\muhammad iqbal\\anaconda3\\lib\\site-packages (from openai) (4.65.0)\n",
      "Requirement already satisfied: aiohttp in c:\\users\\muhammad iqbal\\anaconda3\\lib\\site-packages (from openai) (3.8.6)\n",
      "Requirement already satisfied: requests>=2.20 in c:\\users\\muhammad iqbal\\anaconda3\\lib\\site-packages (from openai) (2.31.0)\n",
      "Requirement already satisfied: urllib3<3,>=1.21.1 in c:\\users\\muhammad iqbal\\anaconda3\\lib\\site-packages (from requests>=2.20->openai) (1.26.16)\n",
      "Requirement already satisfied: idna<4,>=2.5 in c:\\users\\muhammad iqbal\\anaconda3\\lib\\site-packages (from requests>=2.20->openai) (2.10)\n",
      "Requirement already satisfied: charset-normalizer<4,>=2 in c:\\users\\muhammad iqbal\\anaconda3\\lib\\site-packages (from requests>=2.20->openai) (2.0.4)\n",
      "Requirement already satisfied: certifi>=2017.4.17 in c:\\users\\muhammad iqbal\\anaconda3\\lib\\site-packages (from requests>=2.20->openai) (2023.7.22)\n",
      "Requirement already satisfied: frozenlist>=1.1.1 in c:\\users\\muhammad iqbal\\anaconda3\\lib\\site-packages (from aiohttp->openai) (1.4.0)\n",
      "Requirement already satisfied: yarl<2.0,>=1.0 in c:\\users\\muhammad iqbal\\anaconda3\\lib\\site-packages (from aiohttp->openai) (1.9.2)\n",
      "Requirement already satisfied: aiosignal>=1.1.2 in c:\\users\\muhammad iqbal\\anaconda3\\lib\\site-packages (from aiohttp->openai) (1.3.1)\n",
      "Requirement already satisfied: async-timeout<5.0,>=4.0.0a3 in c:\\users\\muhammad iqbal\\anaconda3\\lib\\site-packages (from aiohttp->openai) (4.0.3)\n",
      "Requirement already satisfied: multidict<7.0,>=4.5 in c:\\users\\muhammad iqbal\\anaconda3\\lib\\site-packages (from aiohttp->openai) (6.0.4)\n",
      "Requirement already satisfied: attrs>=17.3.0 in c:\\users\\muhammad iqbal\\anaconda3\\lib\\site-packages (from aiohttp->openai) (22.1.0)\n",
      "Requirement already satisfied: colorama in c:\\users\\muhammad iqbal\\anaconda3\\lib\\site-packages (from tqdm->openai) (0.4.6)\n"
     ]
    },
    {
     "name": "stderr",
     "output_type": "stream",
     "text": [
      "WARNING: Ignoring invalid distribution -rotobuf (c:\\users\\muhammad iqbal\\anaconda3\\lib\\site-packages)\n",
      "WARNING: Ignoring invalid distribution -ensorflow-intel (c:\\users\\muhammad iqbal\\anaconda3\\lib\\site-packages)\n",
      "WARNING: Ignoring invalid distribution -rotobuf (c:\\users\\muhammad iqbal\\anaconda3\\lib\\site-packages)\n",
      "WARNING: Ignoring invalid distribution -ensorflow-intel (c:\\users\\muhammad iqbal\\anaconda3\\lib\\site-packages)\n",
      "WARNING: Ignoring invalid distribution -rotobuf (c:\\users\\muhammad iqbal\\anaconda3\\lib\\site-packages)\n",
      "WARNING: Ignoring invalid distribution -ensorflow-intel (c:\\users\\muhammad iqbal\\anaconda3\\lib\\site-packages)\n",
      "WARNING: Ignoring invalid distribution -rotobuf (c:\\users\\muhammad iqbal\\anaconda3\\lib\\site-packages)\n",
      "WARNING: Ignoring invalid distribution -ensorflow-intel (c:\\users\\muhammad iqbal\\anaconda3\\lib\\site-packages)\n",
      "WARNING: Ignoring invalid distribution -rotobuf (c:\\users\\muhammad iqbal\\anaconda3\\lib\\site-packages)\n",
      "WARNING: Ignoring invalid distribution -ensorflow-intel (c:\\users\\muhammad iqbal\\anaconda3\\lib\\site-packages)\n",
      "WARNING: Ignoring invalid distribution -rotobuf (c:\\users\\muhammad iqbal\\anaconda3\\lib\\site-packages)\n",
      "WARNING: Ignoring invalid distribution -ensorflow-intel (c:\\users\\muhammad iqbal\\anaconda3\\lib\\site-packages)\n"
     ]
    }
   ],
   "source": [
    "!pip install openai"
   ]
  },
  {
   "cell_type": "code",
   "execution_count": 70,
   "id": "4dcb27cf",
   "metadata": {
    "id": "297yQGsVO1hL"
   },
   "outputs": [],
   "source": [
    "import openai"
   ]
  },
  {
   "cell_type": "markdown",
   "id": "42410129",
   "metadata": {
    "id": "otQHIvrmQF6S"
   },
   "source": [
    "## **Using the open.ai key in the code**\n",
    "to generate the key you can go to the link\n",
    "https://platform.openai.com/account/api-keys\n",
    "\n",
    "\n"
   ]
  },
  {
   "cell_type": "code",
   "execution_count": 72,
   "id": "62166df4",
   "metadata": {},
   "outputs": [],
   "source": [
    "openai.api_key = 'Open-AI-Key'"
   ]
  },
  {
   "cell_type": "markdown",
   "id": "25d38331",
   "metadata": {
    "id": "vurC850NPxF0"
   },
   "source": [
    "## **Sentiment Analysis using open.ai api**\n"
   ]
  },
  {
   "cell_type": "code",
   "execution_count": 79,
   "id": "67478dfe",
   "metadata": {},
   "outputs": [],
   "source": [
    "import openai\n",
    "\n",
    "openai.api_key = 'Open-AI-Key'\n",
    "\n",
    "def Senitment_analysis(text):\n",
    "    messages = [\n",
    "        {\"role\": \"system\", \"content\": \"\"\"You are trained to analyze and detect the sentiment of given text.\n",
    "                                        If you're unsure of an answer, you can say \"not sure\" and recommend users to review manually.\"\"\"},\n",
    "        {\"role\": \"user\", \"content\": f\"\"\"Analyze the following text and determine if the sentiment is: positive, negative or neutral.\n",
    "                                        Return answer in single word as either positive, negative or neutral: {text}\"\"\"}\n",
    "        ]\n",
    "\n",
    "    response = openai.ChatCompletion.create(\n",
    "                      model=\"gpt-3.5-turbo\",\n",
    "                      messages=messages,\n",
    "                      max_tokens=1,\n",
    "                      n=1,\n",
    "                      stop=None,\n",
    "                      temperature=0)\n",
    "\n",
    "    response_text = response.choices[0].message.content.strip().lower()\n",
    "\n",
    "    return response_text"
   ]
  },
  {
   "cell_type": "code",
   "execution_count": null,
   "id": "c32f7c83",
   "metadata": {},
   "outputs": [],
   "source": [
    "# calling the function\n",
    "\n",
    "input = 'I am Happy'\n",
    "response = Senitment_analysis(input)\n",
    "print(input,': The Sentiment is', response)"
   ]
  },
  {
   "cell_type": "code",
   "execution_count": null,
   "id": "45b5c834",
   "metadata": {},
   "outputs": [],
   "source": [
    "# calling the function\n",
    "\n",
    "input = 'I don’t like the Rain'\n",
    "response = Senitment_analysis(input)\n",
    "print(input,': The Sentiment is', response)"
   ]
  },
  {
   "cell_type": "code",
   "execution_count": null,
   "id": "dd574963",
   "metadata": {},
   "outputs": [],
   "source": [
    "# calling the function\n",
    "\n",
    "input = 'I am going out'\n",
    "response = Senitment_analysis(input)\n",
    "print(input,': The Sentiment is', response)"
   ]
  },
  {
   "cell_type": "markdown",
   "id": "6d98e6e2",
   "metadata": {},
   "source": [
    "# Tweet_generator()"
   ]
  },
  {
   "cell_type": "markdown",
   "id": "ef863483",
   "metadata": {},
   "source": [
    "Write a Function called Tweet_generator() that takes input string from the user and return the Tweet generated on the given topic. Use the open.ai API for this task.\n",
    "\n",
    "Example: Input “Artificial Intelligence”\n",
    "\n",
    "Output: \"Artificial Intelligence is reshaping the world, revolutionizing\n",
    "industries, and unloc king unimaginable possibilities. From autonomous\n",
    "vehicles to personalized recommendations, AI is transforming our lives,\n",
    "making it smarter and more efficient. Embracing AI opens up a new era of\n",
    "innovation, where machines learn, adapt, and augment human\n",
    "cap abilities. Exciting times ahead as we witness the incredible power of\n",
    "Artificial Intelligence. #AI #ArtificialIntelligence #Innovation\""
   ]
  },
  {
   "attachments": {
    "image.png": {
     "image/png": "[encoded data removed]"
    }
   },
   "cell_type": "markdown",
   "id": "07bcfb93",
   "metadata": {},
   "source": [
    "![image.png](attachment:image.png)"
   ]
  },
  {
   "cell_type": "markdown",
   "id": "051987c1",
   "metadata": {
    "id": "lmfpzQNTRawS"
   },
   "source": [
    "## **Generating the blog using the open ai api**"
   ]
  },
  {
   "cell_type": "code",
   "execution_count": null,
   "id": "f4bd1c5b",
   "metadata": {},
   "outputs": [],
   "source": [
    "def Tweet_generator(topic):\n",
    "    messages = [\n",
    "        {\"role\": \"system\", \"content\": \"\"\"You are trained to analyze a topic and generate a blog post.\n",
    "                                        The blog post must contain 1000 to 1200 words (No less than 700 words).\"\"\"},\n",
    "        {\"role\": \"user\", \"content\": f\"\"\"Analyze the topic and generate a blog post. The topic is {topic}\n",
    "                                        The blog post should contain the following format.\n",
    "                                        1) Title (Not more than one line).\n",
    "                                        2) Introduction (Give introducion about the topic)\n",
    "                                        3) Add 2/3 subheadings and explain them.\n",
    "                                        4) Body (should describe the facts and findings)\n",
    "                                        5) Add 2/3 subheadings and explain them.\n",
    "                                        6) Conclusion of the topic. \"\"\"}\n",
    "        ]\n",
    "\n",
    "    response = openai.ChatCompletion.create(\n",
    "                      model=\"gpt-3.5-turbo\",\n",
    "                      messages=messages,\n",
    "                      max_tokens= 1500,\n",
    "                      n=1,\n",
    "                      stop=None,\n",
    "                      temperature=0.5)\n",
    "\n",
    "    response_text = response.choices[0].message.content.strip().lower()\n",
    "\n",
    "    return response_text"
   ]
  },
  {
   "cell_type": "code",
   "execution_count": null,
   "id": "31e580b9",
   "metadata": {},
   "outputs": [],
   "source": [
    "user_input =\"Artificial Intelligence\"\n",
    "blog = Tweet_generator(user_input)\n",
    "print(blog)"
   ]
  },
  {
   "cell_type": "code",
   "execution_count": null,
   "id": "b7932b4e",
   "metadata": {},
   "outputs": [],
   "source": []
  }
 ],
 "metadata": {
  "kernelspec": {
   "display_name": "Python 3 (ipykernel)",
   "language": "python",
   "name": "python3"
  },
  "language_info": {
   "codemirror_mode": {
    "name": "ipython",
    "version": 3
   },
   "file_extension": ".py",
   "mimetype": "text/x-python",
   "name": "python",
   "nbconvert_exporter": "python",
   "pygments_lexer": "ipython3",
   "version": "3.10.9"
  }
 },
 "nbformat": 4,
 "nbformat_minor": 5
}
